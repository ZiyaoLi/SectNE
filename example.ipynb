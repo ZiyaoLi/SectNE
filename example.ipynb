{
 "cells": [
  {
   "cell_type": "code",
   "execution_count": 1,
   "metadata": {
    "collapsed": false
   },
   "outputs": [
    {
     "name": "stdout",
     "output_type": "stream",
     "text": [
      "5000000 edges processed...\n"
     ]
    },
    {
     "name": "stdout",
     "output_type": "stream",
     "text": [
      "10000000 edges processed...\n"
     ]
    },
    {
     "name": "stdout",
     "output_type": "stream",
     "text": [
      "15000000 edges processed...\n"
     ]
    },
    {
     "name": "stdout",
     "output_type": "stream",
     "text": [
      "20000000 edges processed...\n"
     ]
    },
    {
     "name": "stdout",
     "output_type": "stream",
     "text": [
      "Reducing empty vertices...\n"
     ]
    },
    {
     "name": "stdout",
     "output_type": "stream",
     "text": [
      "0 vertices reduced...\n"
     ]
    },
    {
     "name": "stdout",
     "output_type": "stream",
     "text": [
      "500000 vertices reduced...\n"
     ]
    },
    {
     "name": "stdout",
     "output_type": "stream",
     "text": [
      "1000000 vertices reduced...\n"
     ]
    },
    {
     "name": "stdout",
     "output_type": "stream",
     "text": [
      "1500000 vertices reduced...\n"
     ]
    },
    {
     "name": "stdout",
     "output_type": "stream",
     "text": [
      "READ TIME: 220.77\n0 nodes read in Louvain...\n"
     ]
    },
    {
     "name": "stdout",
     "output_type": "stream",
     "text": [
      "500000 nodes read in Louvain...\n"
     ]
    },
    {
     "name": "stdout",
     "output_type": "stream",
     "text": [
      "1000000 nodes read in Louvain...\n"
     ]
    },
    {
     "name": "stdout",
     "output_type": "stream",
     "text": [
      "1500000 nodes read in Louvain...\n"
     ]
    },
    {
     "name": "stdout",
     "output_type": "stream",
     "text": [
      "Looping 1 of the first stage. increase=15738734.6460\n"
     ]
    },
    {
     "name": "stdout",
     "output_type": "stream",
     "text": [
      "Looping 2 of the first stage. increase=2578541.1742\n"
     ]
    },
    {
     "name": "stdout",
     "output_type": "stream",
     "text": [
      "Looping 3 of the first stage. increase=276294.8282\n"
     ]
    },
    {
     "name": "stdout",
     "output_type": "stream",
     "text": [
      "Looping 4 of the first stage. increase=97708.9032\n"
     ]
    },
    {
     "name": "stdout",
     "output_type": "stream",
     "text": [
      "Looping 5 of the first stage. increase=76761.4488\n"
     ]
    },
    {
     "name": "stdout",
     "output_type": "stream",
     "text": [
      "Looping 6 of the first stage. increase=41228.6932\n"
     ]
    },
    {
     "name": "stdout",
     "output_type": "stream",
     "text": [
      "Looping 7 of the first stage. increase=32193.0493\n"
     ]
    },
    {
     "name": "stdout",
     "output_type": "stream",
     "text": [
      "Looping 8 of the first stage. increase=19600.8815\n"
     ]
    },
    {
     "name": "stdout",
     "output_type": "stream",
     "text": [
      "Looping 9 of the first stage. increase=5631.4103\n"
     ]
    },
    {
     "name": "stdout",
     "output_type": "stream",
     "text": [
      "Looping 10 of the first stage. increase=1735.4544\n"
     ]
    },
    {
     "name": "stdout",
     "output_type": "stream",
     "text": [
      "Looping 11 of the first stage. increase=738.3243\n"
     ]
    },
    {
     "name": "stdout",
     "output_type": "stream",
     "text": [
      "Looping 12 of the first stage. increase=366.8616\n"
     ]
    },
    {
     "name": "stdout",
     "output_type": "stream",
     "text": [
      "Looping 13 of the first stage. increase=317.1155\n"
     ]
    },
    {
     "name": "stdout",
     "output_type": "stream",
     "text": [
      "Looping 14 of the first stage. increase=177.6462\n"
     ]
    },
    {
     "name": "stdout",
     "output_type": "stream",
     "text": [
      "Looping 15 of the first stage. increase=63.5789\n"
     ]
    },
    {
     "name": "stdout",
     "output_type": "stream",
     "text": [
      "Looping 16 of the first stage. increase=40.8022\n"
     ]
    },
    {
     "name": "stdout",
     "output_type": "stream",
     "text": [
      "Looping 17 of the first stage. increase=11.1266\n"
     ]
    },
    {
     "name": "stdout",
     "output_type": "stream",
     "text": [
      "Looping 18 of the first stage. increase=0.0000\n1 iteration finished. first stage increase:18870145.9444\n"
     ]
    },
    {
     "name": "stdout",
     "output_type": "stream",
     "text": [
      "Looping 1 of the first stage. increase=424448.2963\n"
     ]
    },
    {
     "name": "stdout",
     "output_type": "stream",
     "text": [
      "Looping 2 of the first stage. increase=42765.6338\n"
     ]
    },
    {
     "name": "stdout",
     "output_type": "stream",
     "text": [
      "Looping 3 of the first stage. increase=3028.7232\n"
     ]
    },
    {
     "name": "stdout",
     "output_type": "stream",
     "text": [
      "Looping 4 of the first stage. increase=300.4080\n"
     ]
    },
    {
     "name": "stdout",
     "output_type": "stream",
     "text": [
      "Looping 5 of the first stage. increase=53.5030\n"
     ]
    },
    {
     "name": "stdout",
     "output_type": "stream",
     "text": [
      "Looping 6 of the first stage. increase=0.0000\n2 iteration finished. first stage increase:470596.5644\n"
     ]
    },
    {
     "name": "stdout",
     "output_type": "stream",
     "text": [
      "Looping 1 of the first stage. increase=15742.8650\n"
     ]
    },
    {
     "name": "stdout",
     "output_type": "stream",
     "text": [
      "Looping 2 of the first stage. increase=580.6495\n"
     ]
    },
    {
     "name": "stdout",
     "output_type": "stream",
     "text": [
      "Looping 3 of the first stage. increase=36.6580\n"
     ]
    },
    {
     "name": "stdout",
     "output_type": "stream",
     "text": [
      "Looping 4 of the first stage. increase=2.9988\n"
     ]
    },
    {
     "name": "stdout",
     "output_type": "stream",
     "text": [
      "Looping 5 of the first stage. increase=0.0000\n3 iteration finished. first stage increase:16363.1713\n"
     ]
    },
    {
     "name": "stdout",
     "output_type": "stream",
     "text": [
      "Looping 1 of the first stage. increase=789.3362\n"
     ]
    },
    {
     "name": "stdout",
     "output_type": "stream",
     "text": [
      "Looping 2 of the first stage. increase=50.5583\n"
     ]
    },
    {
     "name": "stdout",
     "output_type": "stream",
     "text": [
      "Looping 3 of the first stage. increase=0.9812\n"
     ]
    },
    {
     "name": "stdout",
     "output_type": "stream",
     "text": [
      "Looping 4 of the first stage. increase=0.0000\n4 iteration finished. first stage increase:840.8757\n"
     ]
    },
    {
     "name": "stdout",
     "output_type": "stream",
     "text": [
      "Looping 1 of the first stage. increase=132.3142\n"
     ]
    },
    {
     "name": "stdout",
     "output_type": "stream",
     "text": [
      "Looping 2 of the first stage. increase=3.2754\n"
     ]
    },
    {
     "name": "stdout",
     "output_type": "stream",
     "text": [
      "Looping 3 of the first stage. increase=0.0023\n"
     ]
    },
    {
     "name": "stdout",
     "output_type": "stream",
     "text": [
      "Looping 4 of the first stage. increase=0.0000\n5 iteration finished. first stage increase:135.5919\n"
     ]
    },
    {
     "name": "stdout",
     "output_type": "stream",
     "text": [
      "Looping 1 of the first stage. increase=10.5762\n"
     ]
    },
    {
     "name": "stdout",
     "output_type": "stream",
     "text": [
      "Looping 2 of the first stage. increase=0.0000\n6 iteration finished. first stage increase:10.5762\n"
     ]
    },
    {
     "name": "stdout",
     "output_type": "stream",
     "text": [
      "Looping 1 of the first stage. increase=0.0000\n7 iteration finished. first stage increase:0.0000\nGROUP TIME: 1126.50\n2          8867\n3          5020\n4          3582\n5          3348\n6          2702\n7          2291\n8          1925\n9          1600\n10         1276\n11         1159\n12         1031\n13          863\n14          784\n15          687\n16          564\n17          515\n18          502\n19          416\n20          386\n21          358\n22          304\n23          266\n24          240\n25          236\n26          208\n27          202\n29          173\n28          169\n30          153\n32          134\n           ... \n92547         1\n238           1\n114           1\n242           1\n3030          1\n370           1\n294           1\n2727          1\n557           1\n215           1\n1558          1\n534           1\n167           1\n967           1\n1029649       1\n213           1\n692           1\n276           1\n168           1\n552           1\n2229          1\n211           1\n179           1\n169           1\n201           1\n233           1\n265           1\n1362          1\n530           1\n447           1\nLength: 270, dtype: int64\n"
     ]
    },
    {
     "name": "stdout",
     "output_type": "stream",
     "text": [
      "SAMPLE TIME: 4.21\n"
     ]
    },
    {
     "name": "stdout",
     "output_type": "stream",
     "text": [
      "0 vertex solved...\n1 vertex solved...\n2 vertex solved...\n3 vertex solved...\n4 vertex solved...\n5 vertex solved...\n"
     ]
    },
    {
     "name": "stdout",
     "output_type": "stream",
     "text": [
      "6 vertex solved...\n7 vertex solved...\n8 vertex solved...\n9 vertex solved...\n10 vertex solved...\n11 vertex solved...\n12 vertex solved...\n13 vertex solved...\n14 vertex solved...\n15 vertex solved...\n16 vertex solved...\n17 vertex solved...\n18 vertex solved...\n19 vertex solved...\n"
     ]
    },
    {
     "name": "stdout",
     "output_type": "stream",
     "text": [
      "20 vertex solved...\n21 vertex solved...\n22 vertex solved...\n23 vertex solved...\n24 vertex solved...\n25 vertex solved...\n26 vertex solved...\n27 vertex solved...\n28 vertex solved...\n29 vertex solved...\n30 vertex solved...\n31 vertex solved...\n32 vertex solved...\n33 vertex solved...\n34 vertex solved...\n35 vertex solved...\n36 vertex solved...\n37 vertex solved...\n38 vertex solved...\n39 vertex solved...\n40 vertex solved...\n41 vertex solved...\n42 vertex solved...\n43 vertex solved...\n44 vertex solved...\n45 vertex solved...\n46 vertex solved...\n47 vertex solved...\n48 vertex solved...\n49 vertex solved...\n50 vertex solved...\n51 vertex solved...\n52 vertex solved...\n53 vertex solved...\n54 vertex solved...\n55 vertex solved...\n56 vertex solved...\n57 vertex solved...\n58 vertex solved...\n59 vertex solved...\n60 vertex solved...\n61 vertex solved...\n62 vertex solved...\n63 vertex solved...\n64 vertex solved...\n65 vertex solved...\n66 vertex solved..."
     ]
    },
    {
     "name": "stdout",
     "output_type": "stream",
     "text": [
      "\n67 vertex solved...\n68 vertex solved...\n69 vertex solved...\n70 vertex solved...\n71 vertex solved...\n72 vertex solved...\n73 vertex solved...\n74 vertex solved...\n75 vertex solved...\n76 vertex solved...\n77 vertex solved...\n78 vertex solved...\n79 vertex solved...\n80 vertex solved...\n81 vertex solved...\n82 vertex solved...\n83 vertex solved...\n84 vertex solved...\n85 vertex solved...\n86 vertex solved..."
     ]
    },
    {
     "name": "stdout",
     "output_type": "stream",
     "text": [
      "\n87 vertex solved...\n88 vertex solved...\n89 vertex solved...\n90 vertex solved...\n91 vertex solved...\n92 vertex solved...\n93 vertex solved...\n94 vertex solved...\n95 vertex solved...\n96 vertex solved...\n97 vertex solved...\n98 vertex solved...\n99 vertex solved...\n100 vertex solved...\n101 vertex solved...\n102 vertex solved...\n103 vertex solved...\n104 vertex solved...\n105 vertex solved...\n106 vertex solved...\n107 vertex solved...\n108 vertex solved...\n109 vertex solved...\n110 vertex solved...\n111 vertex solved...\n112 vertex solved...\n113 vertex solved...\n114 vertex solved...\n115 vertex solved...\n116 vertex solved...\n117 vertex solved...\n118 vertex solved...\n119 vertex solved...\n120 vertex solved...\n121 vertex solved...\n122 vertex solved...\n123 vertex solved...\n124 vertex solved...\n125 vertex solved...\n126 vertex solved...\n127 vertex solved...\n128 vertex solved...\n129 vertex solved...\n130 vertex solved...\n"
     ]
    },
    {
     "name": "stdout",
     "output_type": "stream",
     "text": [
      "131 vertex solved...\n132 vertex solved...\n133 vertex solved...\n134 vertex solved...\n135 vertex solved...\n136 vertex solved...\n137 vertex solved...\n138 vertex solved...\n139 vertex solved...\n140 vertex solved...\n141 vertex solved...\n142 vertex solved...\n143 vertex solved...\n144 vertex solved...\n145 vertex solved...\n146 vertex solved...\n147 vertex solved...\n148 vertex solved...\n149 vertex solved...\n150 vertex solved...\n151 vertex solved...\n152 vertex solved...\n153 vertex solved...\n154 vertex solved...\n155 vertex solved...\n156 vertex solved...\n157 vertex solved...\n158 vertex solved...\n159 vertex solved...\n160 vertex solved...\n161 vertex solved...\n162 vertex solved...\n163 vertex solved...\n164 vertex solved...\n165 vertex solved...\n166 vertex solved...\n167 vertex solved...\n168 vertex solved...\n169 vertex solved...\n170 vertex solved...\n171 vertex solved...\n172 vertex solved...\n173 vertex solved...\n174 vertex solved...\n175 vertex solved...\n176 vertex solved...\n177 vertex solved...\n178 vertex solved...\n179 vertex solved...\n180 vertex solved...\n181 vertex solved...\n182 vertex solved...\n183 vertex solved...\n184 vertex solved...\n"
     ]
    },
    {
     "name": "stdout",
     "output_type": "stream",
     "text": [
      "185 vertex solved...\n186 vertex solved...\n187 vertex solved...\n188 vertex solved...\n189 vertex solved...\n190 vertex solved...\n191 vertex solved...\n192 vertex solved...\n193 vertex solved...\n194 vertex solved...\n195 vertex solved...\n196 vertex solved...\n197 vertex solved...\n198 vertex solved...\n199 vertex solved...\n200 vertex solved...\n201 vertex solved...\n202 vertex solved...\n203 vertex solved...\n204 vertex solved...\n205 vertex solved...\n206 vertex solved...\n207 vertex solved...\n208 vertex solved...\n209 vertex solved...\n210 vertex solved...\n211 vertex solved...\n212 vertex solved...\n213 vertex solved...\n214 vertex solved...\n215 vertex solved...\n216 vertex solved...\n217 vertex solved...\n218 vertex solved...\n219 vertex solved...\n220 vertex solved...\n221 vertex solved...\n222 vertex solved...\n223 vertex solved...\n224 vertex solved...\n225 vertex solved...\n226 vertex solved...\n227 vertex solved...\n228 vertex solved...\n229 vertex solved...\n230 vertex solved...\n231 vertex solved...\n232 vertex solved...\n233 vertex solved...\n234 vertex solved...\n235 vertex solved...\n236 vertex solved...\n237 vertex solved...\n238 vertex solved...\n239 vertex solved...\n240 vertex solved...\n241 vertex solved...\n242 vertex solved...\n243 vertex solved...\n244 vertex solved...\n245 vertex solved...\n246 vertex solved...\n247 vertex solved...\n248 vertex solved...\n249 vertex solved...\n"
     ]
    },
    {
     "name": "stdout",
     "output_type": "stream",
     "text": [
      "250 vertex solved...\n251 vertex solved...\n252 vertex solved...\n253 vertex solved...\n254 vertex solved...\n255 vertex solved...\n256 vertex solved...\n257 vertex solved...\n258 vertex solved...\n259 vertex solved...\n260 vertex solved...\n261 vertex solved...\n262 vertex solved...\n263 vertex solved...\n264 vertex solved...\n265 vertex solved...\n266 vertex solved...\n267 vertex solved...\n268 vertex solved...\n269 vertex solved...\n270 vertex solved...\n271 vertex solved...\n272 vertex solved...\n273 vertex solved...\n274 vertex solved...\n275 vertex solved...\n276 vertex solved...\n277 vertex solved...\n278 vertex solved...\n279 vertex solved...\n280 vertex solved...\n281 vertex solved...\n282 vertex solved...\n283 vertex solved...\n284 vertex solved...\n"
     ]
    },
    {
     "name": "stdout",
     "output_type": "stream",
     "text": [
      "285 vertex solved...\n286 vertex solved...\n287 vertex solved...\n288 vertex solved...\n289 vertex solved...\n290 vertex solved...\n291 vertex solved...\n292 vertex solved...\n293 vertex solved...\n294 vertex solved...\n295 vertex solved...\n296 vertex solved...\n297 vertex solved...\n298 vertex solved...\n299 vertex solved...\n300 vertex solved...\n301 vertex solved...\n302 vertex solved...\n303 vertex solved...\n304 vertex solved...\n305 vertex solved...\n306 vertex solved...\n307 vertex solved...\n308 vertex solved...\n309 vertex solved...\n310 vertex solved...\n311 vertex solved...\n312 vertex solved...\n313 vertex solved...\n314 vertex solved...\n315 vertex solved...\n316 vertex solved...\n317 vertex solved...\n318 vertex solved...\n319 vertex solved...\n320 vertex solved...\n321 vertex solved...\n322 vertex solved...\n323 vertex solved...\n324 vertex solved...\n325 vertex solved...\n326 vertex solved...\n327 vertex solved...\n328 vertex solved...\n329 vertex solved...\n330 vertex solved...\n331 vertex solved...\n332 vertex solved...\n333 vertex solved...\n334 vertex solved...\n335 vertex solved...\n336 vertex solved...\n337 vertex solved...\n338 vertex solved...\n339 vertex solved...\n340 vertex solved...\n341 vertex solved...\n342 vertex solved...\n343 vertex solved...\n344 vertex solved...\n345 vertex solved...\n346 vertex solved...\n347 vertex solved...\n348 vertex solved...\n349 vertex solved...\n350 vertex solved...\n351 vertex solved...\n352 vertex solved...\n353 vertex solved...\n354 vertex solved...\n355 vertex solved...\n356 vertex solved...\n357 vertex solved...\n358 vertex solved...\n359 vertex solved...\n360 vertex solved...\n361 vertex solved...\n362 vertex solved...\n363 vertex solved...\n364 vertex solved...\n365 vertex solved...\n366 vertex solved...\n367 vertex solved...\n368 vertex solved...\n369 vertex solved...\n370 vertex solved...\n371 vertex solved...\n372 vertex solved...\n373 vertex solved...\n374 vertex solved...\n375 vertex solved...\n376 vertex solved...\n377 vertex solved...\n378 vertex solved...\n379 vertex solved...\n380 vertex solved...\n381 vertex solved...\n382 vertex solved...\n383 vertex solved...\n384 vertex solved...\n385 vertex solved...\n386 vertex solved...\n387 vertex solved...\n388 vertex solved...\n389 vertex solved...\n390 vertex solved...\n391 vertex solved...\n392 vertex solved...\n393 vertex solved...\n394 vertex solved...\n395 vertex solved...\n396 vertex solved...\n397 vertex solved...\n398 vertex solved...\n399 vertex solved...\n"
     ]
    },
    {
     "name": "stdout",
     "output_type": "stream",
     "text": [
      "0 vertex solved...\n1 vertex solved...\n"
     ]
    },
    {
     "name": "stdout",
     "output_type": "stream",
     "text": [
      "2 vertex solved...\n3 vertex solved...\n4 vertex solved...\n5 vertex solved...\n6 vertex solved...\n7 vertex solved...\n8 vertex solved...\n9 vertex solved...\n10 vertex solved...\n11 vertex solved...\n12 vertex solved...\n13 vertex solved...\n"
     ]
    },
    {
     "name": "stdout",
     "output_type": "stream",
     "text": [
      "14 vertex solved...\n15 vertex solved...\n16 vertex solved...\n17 vertex solved...\n"
     ]
    },
    {
     "name": "stdout",
     "output_type": "stream",
     "text": [
      "18 vertex solved...\n19 vertex solved...\n20 vertex solved...\n21 vertex solved...\n22 vertex solved...\n23 vertex solved...\n24 vertex solved...\n25 vertex solved...\n26 vertex solved...\n27 vertex solved...\n28 vertex solved...\n29 vertex solved...\n30 vertex solved...\n31 vertex solved...\n32 vertex solved...\n33 vertex solved...\n34 vertex solved...\n35 vertex solved...\n36 vertex solved..."
     ]
    },
    {
     "name": "stdout",
     "output_type": "stream",
     "text": [
      "\n37 vertex solved...\n38 vertex solved...\n39 vertex solved...\n40 vertex solved...\n41 vertex solved...\n42 vertex solved...\n43 vertex solved...\n44 vertex solved...\n45 vertex solved...\n46 vertex solved...\n47 vertex solved...\n48 vertex solved...\n49 vertex solved...\n50 vertex solved...\n51 vertex solved...\n52 vertex solved...\n53 vertex solved...\n54 vertex solved...\n55 vertex solved...\n56 vertex solved...\n57 vertex solved...\n58 vertex solved...\n59 vertex solved...\n60 vertex solved...\n61 vertex solved...\n62 vertex solved...\n63 vertex solved...\n64 vertex solved...\n65 vertex solved...\n66 vertex solved...\n67 vertex solved...\n"
     ]
    },
    {
     "name": "stdout",
     "output_type": "stream",
     "text": [
      "68 vertex solved...\n69 vertex solved...\n70 vertex solved...\n71 vertex solved...\n72 vertex solved...\n73 vertex solved...\n74 vertex solved...\n75 vertex solved...\n76 vertex solved...\n77 vertex solved...\n78 vertex solved...\n79 vertex solved...\n80 vertex solved...\n81 vertex solved...\n82 vertex solved...\n83 vertex solved...\n84 vertex solved...\n85 vertex solved..."
     ]
    },
    {
     "name": "stdout",
     "output_type": "stream",
     "text": [
      "\n86 vertex solved...\n87 vertex solved...\n88 vertex solved...\n89 vertex solved...\n90 vertex solved...\n91 vertex solved...\n92 vertex solved...\n93 vertex solved...\n94 vertex solved...\n95 vertex solved...\n96 vertex solved...\n97 vertex solved...\n98 vertex solved...\n99 vertex solved...\n100 vertex solved...\n101 vertex solved...\n102 vertex solved...\n103 vertex solved...\n104 vertex solved...\n105 vertex solved...\n106 vertex solved...\n107 vertex solved...\n108 vertex solved...\n109 vertex solved...\n110 vertex solved...\n111 vertex solved...\n112 vertex solved...\n113 vertex solved...\n114 vertex solved...\n115 vertex solved...\n116 vertex solved...\n117 vertex solved...\n118 vertex solved...\n119 vertex solved...\n120 vertex solved...\n121 vertex solved...\n122 vertex solved...\n123 vertex solved...\n124 vertex solved...\n125 vertex solved...\n126 vertex solved...\n127 vertex solved...\n128 vertex solved..."
     ]
    },
    {
     "name": "stdout",
     "output_type": "stream",
     "text": [
      "\n129 vertex solved...\n130 vertex solved...\n131 vertex solved...\n132 vertex solved...\n133 vertex solved...\n134 vertex solved...\n135 vertex solved...\n136 vertex solved...\n137 vertex solved...\n138 vertex solved...\n139 vertex solved...\n140 vertex solved...\n141 vertex solved...\n142 vertex solved...\n143 vertex solved...\n144 vertex solved...\n145 vertex solved...\n146 vertex solved...\n147 vertex solved...\n148 vertex solved...\n149 vertex solved...\n150 vertex solved...\n151 vertex solved...\n152 vertex solved...\n153 vertex solved...\n154 vertex solved...\n155 vertex solved...\n156 vertex solved...\n157 vertex solved...\n158 vertex solved...\n159 vertex solved...\n160 vertex solved...\n161 vertex solved...\n162 vertex solved...\n163 vertex solved...\n164 vertex solved...\n165 vertex solved...\n166 vertex solved...\n167 vertex solved...\n168 vertex solved...\n169 vertex solved...\n170 vertex solved...\n171 vertex solved...\n172 vertex solved...\n173 vertex solved...\n174 vertex solved...\n175 vertex solved...\n176 vertex solved...\n177 vertex solved...\n178 vertex solved...\n179 vertex solved...\n180 vertex solved...\n181 vertex solved...\n"
     ]
    },
    {
     "name": "stdout",
     "output_type": "stream",
     "text": [
      "182 vertex solved...\n183 vertex solved...\n184 vertex solved...\n185 vertex solved...\n186 vertex solved...\n187 vertex solved...\n188 vertex solved...\n189 vertex solved...\n190 vertex solved...\n191 vertex solved...\n192 vertex solved...\n193 vertex solved...\n194 vertex solved...\n195 vertex solved...\n196 vertex solved...\n197 vertex solved...\n198 vertex solved...\n199 vertex solved...\n200 vertex solved...\n201 vertex solved...\n202 vertex solved...\n203 vertex solved...\n204 vertex solved...\n205 vertex solved...\n206 vertex solved...\n207 vertex solved...\n208 vertex solved...\n209 vertex solved...\n210 vertex solved...\n211 vertex solved...\n212 vertex solved...\n213 vertex solved...\n214 vertex solved...\n215 vertex solved...\n216 vertex solved...\n217 vertex solved...\n218 vertex solved...\n219 vertex solved...\n220 vertex solved...\n221 vertex solved...\n222 vertex solved...\n223 vertex solved...\n224 vertex solved...\n225 vertex solved...\n226 vertex solved...\n227 vertex solved...\n228 vertex solved...\n229 vertex solved...\n230 vertex solved...\n231 vertex solved...\n232 vertex solved...\n233 vertex solved...\n234 vertex solved...\n235 vertex solved...\n236 vertex solved...\n237 vertex solved...\n238 vertex solved...\n239 vertex solved...\n240 vertex solved...\n241 vertex solved...\n242 vertex solved...\n243 vertex solved...\n244 vertex solved...\n245 vertex solved...\n246 vertex solved...\n247 vertex solved...\n248 vertex solved...\n249 vertex solved...\n250 vertex solved...\n251 vertex solved...\n252 vertex solved...\n253 vertex solved...\n254 vertex solved..."
     ]
    },
    {
     "name": "stdout",
     "output_type": "stream",
     "text": [
      "\n255 vertex solved...\n256 vertex solved...\n257 vertex solved...\n258 vertex solved...\n259 vertex solved...\n260 vertex solved...\n261 vertex solved...\n262 vertex solved...\n263 vertex solved...\n264 vertex solved...\n265 vertex solved...\n266 vertex solved...\n267 vertex solved...\n268 vertex solved...\n269 vertex solved...\n270 vertex solved...\n271 vertex solved...\n272 vertex solved...\n273 vertex solved...\n274 vertex solved...\n275 vertex solved...\n276 vertex solved...\n277 vertex solved...\n278 vertex solved...\n279 vertex solved...\n280 vertex solved...\n281 vertex solved...\n282 vertex solved...\n"
     ]
    },
    {
     "name": "stdout",
     "output_type": "stream",
     "text": [
      "283 vertex solved...\n284 vertex solved...\n285 vertex solved...\n286 vertex solved...\n287 vertex solved...\n288 vertex solved...\n289 vertex solved...\n290 vertex solved...\n291 vertex solved...\n292 vertex solved...\n293 vertex solved...\n294 vertex solved...\n295 vertex solved...\n296 vertex solved...\n297 vertex solved...\n298 vertex solved...\n299 vertex solved...\n300 vertex solved...\n301 vertex solved...\n302 vertex solved...\n303 vertex solved...\n304 vertex solved...\n305 vertex solved...\n306 vertex solved...\n307 vertex solved...\n308 vertex solved...\n309 vertex solved...\n310 vertex solved...\n311 vertex solved...\n312 vertex solved...\n313 vertex solved...\n314 vertex solved...\n315 vertex solved...\n316 vertex solved...\n317 vertex solved...\n318 vertex solved...\n319 vertex solved...\n320 vertex solved...\n321 vertex solved...\n322 vertex solved...\n323 vertex solved...\n324 vertex solved...\n325 vertex solved...\n326 vertex solved...\n327 vertex solved...\n328 vertex solved...\n329 vertex solved...\n330 vertex solved...\n331 vertex solved...\n332 vertex solved...\n333 vertex solved...\n334 vertex solved...\n335 vertex solved...\n336 vertex solved...\n337 vertex solved...\n338 vertex solved...\n339 vertex solved...\n340 vertex solved...\n341 vertex solved...\n342 vertex solved...\n343 vertex solved...\n344 vertex solved...\n345 vertex solved...\n346 vertex solved...\n347 vertex solved...\n348 vertex solved...\n349 vertex solved...\n350 vertex solved...\n351 vertex solved...\n352 vertex solved...\n353 vertex solved...\n354 vertex solved...\n355 vertex solved...\n356 vertex solved...\n357 vertex solved...\n358 vertex solved...\n359 vertex solved...\n360 vertex solved...\n361 vertex solved...\n362 vertex solved...\n363 vertex solved...\n364 vertex solved...\n365 vertex solved...\n366 vertex solved...\n367 vertex solved...\n368 vertex solved...\n369 vertex solved...\n370 vertex solved...\n371 vertex solved...\n372 vertex solved...\n373 vertex solved...\n374 vertex solved...\n375 vertex solved...\n376 vertex solved...\n377 vertex solved...\n378 vertex solved...\n379 vertex solved...\n380 vertex solved...\n381 vertex solved...\n382 vertex solved...\n383 vertex solved...\n384 vertex solved...\n385 vertex solved...\n386 vertex solved...\n387 vertex solved...\n388 vertex solved...\n389 vertex solved...\n390 vertex solved...\n391 vertex solved...\n392 vertex solved...\n393 vertex solved...\n394 vertex solved...\n395 vertex solved...\n396 vertex solved...\n397 vertex solved...\n398 vertex solved...\n399 vertex solved...\n"
     ]
    },
    {
     "name": "stdout",
     "output_type": "stream",
     "text": [
      "INITIAL OPTIMIZER TIME (SVD): 22.61\n"
     ]
    }
   ],
   "source": [
    "from graph import Graph\n",
    "from sample import sample\n",
    "from train import Optimizer\n",
    "from group import Louvain, groups2inv_index, pure_override_nodes\n",
    "import numpy as np\n",
    "import pandas as pd\n",
    "import train\n",
    "from numpy.linalg import norm\n",
    "import time\n",
    "\n",
    "K_SIZE = 400\n",
    "DIMENSION = 128\n",
    "VERBOSE = 1\n",
    "GROUP_IGNORE = 1\n",
    "SAMPLE_METHOD = 'deg^2|group_prob'\n",
    "RANDOM_GROUPING = True\n",
    "\n",
    "DATASET = 'flickr'\n",
    "DATADIR = 'data\\\\'\n",
    "ABS_DELTA_MATRIX_TO_FILE = True\n",
    "LOG_TO_FILE = True\n",
    "UNIQUE_NAME = '%.3f' % np.random.rand()\n",
    "DELTA_FILE_NAME = 'results\\\\' + '_'.join([\n",
    "    DATASET,\n",
    "    'k=%s' % K_SIZE,\n",
    "    'd=%s' % DIMENSION,\n",
    "    'sample=%s' % SAMPLE_METHOD,\n",
    "    'lambda=%.2f' % train.LAMBDA,\n",
    "    'eta=%.2f' % train.ETA,\n",
    "    'max-iter=%04d' % train.MAX_ITER,\n",
    "    '%s' % UNIQUE_NAME\n",
    "]) + '.csv'\n",
    "LOG_FILE_NAME = 'results\\\\' + '_'.join([\n",
    "    DATASET,\n",
    "    'k=%s' % K_SIZE,\n",
    "    'd=%s' % DIMENSION,\n",
    "    'sample=%s' % SAMPLE_METHOD,\n",
    "    'lambda=%.2f' % train.LAMBDA,\n",
    "    'eta=%.2f' % train.ETA,\n",
    "    'max-iter=%04d' % train.MAX_ITER,\n",
    "    '%s' % UNIQUE_NAME\n",
    "]) + '.log'\n",
    "\n",
    "ppt = time.time()\n",
    "\n",
    "pt = time.time()\n",
    "net = Graph(DATADIR + DATASET + '\\\\links.txt', typ='dir')\n",
    "print('READ TIME: %.2f' % (time.time() - pt))\n",
    "\n",
    "pt = time.time()\n",
    "grouping_model = Louvain(net)\n",
    "groups = grouping_model.execute(rand=RANDOM_GROUPING)\n",
    "print('GROUP TIME: %.2f' % (time.time() - pt))\n",
    "\n",
    "group_sizes = [len(t) for t in groups]\n",
    "print(pd.value_counts(group_sizes))\n",
    "inv_index_original = groups2inv_index(groups, net.nVertices)\n",
    "sizes_index = [group_sizes[t - 1] for t in inv_index_original]\n",
    "\n",
    "pt = time.time()\n",
    "# k_set = sample(net, k=K_SIZE, method='deg_deter')\n",
    "k_set = sample(net, k=K_SIZE, method=SAMPLE_METHOD, vertex_group_sizes=sizes_index)\n",
    "print('SAMPLE TIME: %.2f' % (time.time() - pt))\n",
    "\n",
    "inv_index = groups2inv_index(groups, net.nVertices, k_set)\n",
    "pure_override_nodes(groups, inv_index)\n",
    "groups = [k_set] + groups\n",
    "\n",
    "pt = time.time()\n",
    "model = Optimizer(net, groups, dim=DIMENSION)\n",
    "print('INITIAL OPTIMIZER TIME (SVD): %.2f' % (time.time() - pt))\n",
    "\n",
    "vecs_w = []\n",
    "vecs_c = []\n",
    "\n",
    "all_idx = []"
   ]
  },
  {
   "cell_type": "code",
   "execution_count": 10,
   "metadata": {
    "collapsed": true
   },
   "outputs": [
    {
     "data": {
      "text/plain": [
       "[3,\n 13,\n 5,\n 10,\n 14,\n 2,\n 19,\n 10,\n 5,\n 12,\n 12,\n 7,\n 2,\n 9,\n 5,\n 44,\n 2,\n 8,\n 38,\n 8,\n 22,\n 15,\n 6,\n 14,\n 8,\n 2,\n 38,\n 2,\n 14,\n 5,\n 45,\n 53,\n 5,\n 17,\n 4,\n 7,\n 2,\n 4,\n 4,\n 6,\n 2,\n 7,\n 3,\n 2,\n 2,\n 98,\n 87,\n 3,\n 5,\n 11,\n 2,\n 48,\n 4,\n 64,\n 6,\n 2,\n 13,\n 38,\n 6,\n 15,\n 11,\n 5,\n 5,\n 2,\n 3,\n 11,\n 14,\n 3,\n 44,\n 2,\n 15,\n 5,\n 2,\n 23,\n 4,\n 28,\n 3,\n 12,\n 6,\n 2,\n 6,\n 20,\n 30,\n 2,\n 7,\n 8,\n 5,\n 7,\n 3,\n 5,\n 16,\n 7,\n 3,\n 6,\n 58,\n 2,\n 18,\n 38,\n 3,\n 6,\n 5,\n 2,\n 4,\n 3,\n 7,\n 2,\n 13,\n 8,\n 3,\n 9,\n 3,\n 3,\n 2,\n 2,\n 16,\n 2,\n 34,\n 8,\n 4,\n 2,\n 5,\n 2,\n 8,\n 4,\n 4,\n 20,\n 3,\n 5,\n 25,\n 8,\n 5,\n 39,\n 2,\n 4,\n 2,\n 25,\n 13,\n 2,\n 7,\n 4,\n 4,\n 14,\n 12,\n 5,\n 11,\n 13,\n 3,\n 4,\n 2,\n 11,\n 2,\n 3,\n 2,\n 7,\n 2,\n 3,\n 2,\n 17,\n 2,\n 4,\n 6,\n 2,\n 5,\n 14,\n 2,\n 5,\n 73,\n 2,\n 13,\n 2,\n 2,\n 3,\n 2,\n 2,\n 3,\n 3,\n 2,\n 12,\n 2,\n 19,\n 7,\n 11,\n 2,\n 12,\n 4,\n 8,\n 12,\n 6,\n 29,\n 4,\n 6,\n 2,\n 2,\n 12,\n 2,\n 41,\n 3,\n 4,\n 4,\n 3,\n 9,\n 8,\n 11,\n 5,\n 8,\n 2,\n 11,\n 2,\n 39,\n 4,\n 31,\n 3,\n 6,\n 7,\n 17,\n 8,\n 4,\n 6,\n 4,\n 22,\n 13,\n 6,\n 3,\n 5,\n 3,\n 3,\n 19,\n 21,\n 2,\n 2,\n 11,\n 2,\n 2,\n 6,\n 5,\n 3,\n 6,\n 2,\n 3,\n 3,\n 4,\n 6,\n 6,\n 51,\n 10,\n 12,\n 5,\n 12,\n 6,\n 17,\n 2,\n 11,\n 20,\n 3,\n 3,\n 3,\n 15,\n 3,\n 5,\n 15,\n 5,\n 2,\n 8,\n 4,\n 3,\n 2,\n 8,\n 2,\n 7,\n 3,\n 9,\n 5,\n 2,\n 6,\n 4,\n 2,\n 2,\n 8,\n 5,\n 2,\n 2,\n 17,\n 2,\n 3,\n 5,\n 9,\n 3,\n 7,\n 16,\n 2,\n 2,\n 3,\n 20,\n 5,\n 9,\n 9,\n 9,\n 106,\n 7,\n 9,\n 2,\n 13,\n 3,\n 2,\n 23,\n 10,\n 5,\n 2,\n 55,\n 5,\n 24,\n 5,\n 5,\n 2,\n 22,\n 6,\n 2,\n 5,\n 5,\n 4,\n 2,\n 10,\n 6,\n 11,\n 3,\n 33,\n 3,\n 20,\n 13,\n 10,\n 25,\n 14,\n 9,\n 7,\n 37,\n 11,\n 183,\n 20,\n 10,\n 4,\n 13,\n 10,\n 19,\n 6,\n 9,\n 57,\n 4,\n 15,\n 3,\n 6,\n 2,\n 4,\n 6,\n 3,\n 2,\n 2,\n 5,\n 2,\n 22,\n 9,\n 5,\n 5,\n 2,\n 5,\n 7,\n 2,\n 11,\n 13,\n 14,\n 7,\n 4,\n 8,\n 11,\n 18,\n 10,\n 21,\n 8,\n 2,\n 5,\n 3,\n 6,\n 2,\n 16,\n 11,\n 9,\n 4,\n 3,\n 2,\n 10,\n 28,\n 7,\n 8,\n 5,\n 3,\n 6,\n 4,\n 2,\n 2,\n 5,\n 4,\n 4,\n 2,\n 5,\n 5,\n 4,\n 8,\n 13,\n 2,\n 24,\n 2,\n 19,\n 3,\n 5,\n 22,\n 2,\n 2,\n 3,\n 7,\n 5,\n 15,\n 3,\n 5,\n 3,\n 10,\n 2,\n 8,\n 3,\n 3,\n 12,\n 2,\n 2,\n 3,\n 3,\n 6,\n 8,\n 3,\n 8,\n 3,\n 2,\n 3,\n 4,\n 10,\n 8,\n 2,\n 11,\n 2,\n 10,\n 2,\n 2,\n 18,\n 2,\n 15,\n 8,\n 7,\n 5,\n 2,\n 76,\n 5,\n 3,\n 9,\n 3,\n 9,\n 5,\n 22,\n 7,\n 2,\n 5,\n 46,\n 9,\n 2,\n 2,\n 2,\n 4,\n 14,\n 5,\n 3,\n 20,\n 12,\n 4,\n 5,\n 2,\n 5,\n 2,\n 4,\n 59,\n 4,\n 6,\n 13,\n 11,\n 13,\n 9,\n 3,\n 9,\n 4,\n 2,\n 6,\n 26,\n 5,\n 3,\n 18,\n 2,\n 6,\n 69,\n 6,\n 17,\n 12,\n 3,\n 2,\n 6,\n 4,\n 5,\n 2,\n 10,\n 21,\n 399,\n 13,\n 11,\n 5,\n 26,\n 8,\n 7,\n 12,\n 15,\n 6,\n 2,\n 7,\n 4,\n 8,\n 78,\n 8,\n 24,\n 2,\n 142,\n 10,\n 33,\n 2,\n 15,\n 5,\n 34,\n 9,\n 14,\n 9,\n 5,\n 9,\n 3,\n 2,\n 2,\n 14,\n 3,\n 5,\n 18,\n 4,\n 9,\n 3,\n 27,\n 20,\n 6,\n 3,\n 10,\n 9,\n 3,\n 13,\n 2,\n 6,\n 65,\n 5,\n 7,\n 10,\n 5,\n 2,\n 24,\n 14,\n 7,\n 4,\n 28,\n 9,\n 14,\n 14,\n 15,\n 3,\n 2,\n 2,\n 3,\n 2,\n 25,\n 6,\n 2,\n 3,\n 5,\n 3,\n 11,\n 4,\n 16,\n 5,\n 82,\n 6,\n 2,\n 30,\n 13,\n 530,\n 8,\n 2,\n 3,\n 4,\n 3,\n 12,\n 12,\n 5,\n 11,\n 2,\n 10,\n 2,\n 13,\n 2,\n 21,\n 17,\n 6,\n 11,\n 10,\n 4,\n 7,\n 5,\n 3,\n 3,\n 7,\n 5,\n 2,\n 54,\n 16,\n 3,\n 5,\n 6,\n 2,\n 100,\n 2,\n 39,\n 2,\n 2,\n 2,\n 9,\n 3,\n 3,\n 2,\n 7,\n 23,\n 3,\n 5,\n 3,\n 8,\n 2,\n 2,\n 2,\n 10,\n 8,\n 21,\n 2,\n 3,\n 18,\n 7,\n 5,\n 9,\n 7,\n 8,\n 11,\n 8,\n 6,\n 9,\n 2,\n 62,\n 10,\n 14,\n 4,\n 11,\n 3,\n 12,\n 3,\n 3,\n 5,\n 6,\n 51,\n 18,\n 6,\n 5,\n 3,\n 6,\n 7,\n 3,\n 3,\n 2,\n 3,\n 15,\n 3,\n 2,\n 4,\n 5,\n 8,\n 22,\n 7,\n 24,\n 4,\n 5,\n 14,\n 26,\n 5,\n 2,\n 2,\n 3,\n 2,\n 3,\n 6,\n 3,\n 2,\n 13,\n 60,\n 11,\n 5,\n 7,\n 6,\n 2,\n 18,\n 16,\n 7,\n 67,\n 9,\n 4,\n 4,\n 13,\n 42,\n 3,\n 4,\n 7,\n 6,\n 64,\n 7,\n 6,\n 7,\n 13,\n 13,\n 11,\n 18,\n 3,\n 7,\n 10,\n 2,\n 11,\n 7,\n 5,\n 8,\n 2,\n 47,\n 13,\n 10,\n 3,\n 13,\n 3,\n 16,\n 6,\n 3,\n 2,\n 6,\n 4,\n 22,\n 5,\n 23,\n 14,\n 43,\n 3,\n 10,\n 11,\n 5,\n 11,\n 8,\n 12,\n 14,\n 9,\n 2,\n 22,\n 3,\n 3,\n 8,\n 15,\n 11,\n 10,\n 4,\n 4,\n 2,\n 18,\n 59,\n 44,\n 4,\n 8,\n 3,\n 6,\n 13,\n 6,\n 5,\n 2,\n 2,\n 2,\n 7,\n 2,\n 3,\n 2,\n 2,\n 25,\n 8,\n 12,\n 4,\n 5,\n 5,\n 6,\n 3,\n 2,\n 9,\n 12,\n 3,\n 15,\n 3,\n 5,\n 6,\n 4,\n 7,\n 2,\n 12,\n 2,\n 3,\n 3,\n 8,\n 5,\n 14,\n 3,\n 3,\n 9,\n 2,\n 7,\n 184,\n 2,\n 3,\n 9,\n 4,\n 26,\n 3,\n 7,\n 3,\n 8,\n 2,\n 4,\n 3,\n 2,\n 3,\n 7,\n 4,\n 39,\n 2,\n 3,\n 17,\n 32,\n 3,\n 2,\n 5,\n 6,\n 8,\n 11,\n 4,\n 28,\n 7,\n 2,\n 2,\n 2,\n 13,\n 2,\n 54,\n 35,\n 5,\n 12,\n 3,\n 7,\n 13,\n 2,\n 7,\n 2,\n 2,\n 2,\n 17,\n 2,\n 8,\n 3,\n 10,\n 4,\n 18,\n 5,\n 27,\n 21,\n 27,\n 5,\n 9,\n 18,\n 7,\n 10,\n 8,\n 24,\n 3,\n 21,\n 22,\n 4,\n 3,\n 53,\n 2,\n 17,\n 11,\n 2,\n 7,\n 2,\n 13,\n 3,\n 17,\n 15,\n 27,\n 19,\n 11,\n 2,\n 5,\n 3,\n 2,\n 2,\n 9,\n 2,\n 3,\n 14,\n 6,\n 3,\n 9,\n 7,\n 18,\n 9,\n 35,\n 7,\n 5,\n 12,\n 3,\n 6,\n 2,\n 3,\n 14,\n 5,\n 8,\n 6,\n 3,\n 5,\n 6,\n 2,\n 7,\n 2,\n 3,\n 2,\n 4,\n 8,\n 7,\n 10,\n 4,\n 4,\n 8,\n 4,\n 4,\n 9,\n 2,\n 30,\n 7,\n 20,\n 63,\n 4,\n 34,\n 11,\n 13,\n 142,\n 30,\n 2,\n 2,\n 2,\n 16,\n 28,\n 7,\n 25,\n 3,\n 9,\n 3,\n 16,\n 2,\n 3,\n 18,\n 5,\n 15,\n 7,\n 4,\n 2,\n 36,\n 7,\n 7,\n 12,\n 8,\n ...]"
      ]
     },
     "execution_count": 10,
     "metadata": {},
     "output_type": "execute_result"
    }
   ],
   "source": [
    "group_sizes"
   ]
  },
  {
   "cell_type": "code",
   "execution_count": 16,
   "metadata": {},
   "outputs": [
    {
     "name": "stdout",
     "output_type": "stream",
     "text": [
      "Fetch fetched A matrix time: 21.55\n"
     ]
    },
    {
     "name": "stdout",
     "output_type": "stream",
     "text": [
      "0 vertex solved...\n1 vertex solved...\n2 vertex solved...\n3 vertex solved...\n4 vertex solved...\n5 vertex solved...\n6 vertex solved...\n7 vertex solved...\n8 vertex solved...\n9 vertex solved...\n10 vertex solved...\n11 vertex solved...\n12 vertex solved...\n13 vertex solved...\n14 vertex solved...\n15 vertex solved...\n16 vertex solved...\n17 vertex solved...\n18 vertex solved...\n19 vertex solved...\n20 vertex solved...\n21 vertex solved...\n22 vertex solved...\n23 vertex solved...\n24 vertex solved...\n25 vertex solved...\n26 vertex solved...\n27 vertex solved...\n28 vertex solved...\n29 vertex solved...\n30 vertex solved...\n31 vertex solved...\n32 vertex solved...\n33 vertex solved...\n34 vertex solved...\n35 vertex solved...\n36 vertex solved...\n37 vertex solved...\n38 vertex solved...\n39 vertex solved...\n40 vertex solved...\n41 vertex solved...\n42 vertex solved...\n43 vertex solved...\nFetch m_1_r matrix time: 0.99\n"
     ]
    },
    {
     "name": "stdout",
     "output_type": "stream",
     "text": [
      "Calculate G_0 and b_0 for A time: 29.86\n"
     ]
    },
    {
     "name": "stdout",
     "output_type": "stream",
     "text": [
      "Fetch fetched B matrix time: 14.70\n"
     ]
    },
    {
     "name": "stdout",
     "output_type": "stream",
     "text": [
      "0 vertex solved...\n1 vertex solved...\n2 vertex solved...\n3 vertex solved...\n4 vertex solved...\n5 vertex solved...\n6 vertex solved...\n7 vertex solved...\n8 vertex solved...\n9 vertex solved...\n10 vertex solved...\n11 vertex solved...\n12 vertex solved...\n13 vertex solved...\n14 vertex solved...\n15 vertex solved...\n16 vertex solved...\n17 vertex solved...\n18 vertex solved...\n19 vertex solved...\n20 vertex solved...\n21 vertex solved...\n22 vertex solved...\n23 vertex solved...\n24 vertex solved...\n25 vertex solved...\n26 vertex solved...\n27 vertex solved...\n28 vertex solved...\n29 vertex solved...\n30 vertex solved...\n31 vertex solved...\n32 vertex solved...\n33 vertex solved...\n34 vertex solved...\n35 vertex solved...\n36 vertex solved...\n37 vertex solved...\n38 vertex solved...\n39 vertex solved...\n40 vertex solved...\n41 vertex solved...\n42 vertex solved...\n43 vertex solved...\nFetch m_1_r matrix time: 1.05\n"
     ]
    },
    {
     "name": "stdout",
     "output_type": "stream",
     "text": [
      "Calculate G_0 and b_0 for B time: 20.59\n0 vertex solved...\n1 vertex solved...\n2 vertex solved...\n3 vertex solved...\n4 vertex solved...\n5 vertex solved...\n6 vertex solved...\n7 vertex solved...\n8 vertex solved...\n9 vertex solved...\n10 vertex solved...\n11 vertex solved...\n12 vertex solved...\n13 vertex solved...\n14 vertex solved...\n15 vertex solved...\n16 vertex solved...\n17 vertex solved...\n18 vertex solved...\n19 vertex solved...\n20 vertex solved...\n21 vertex solved...\n22 vertex solved...\n23 vertex solved...\n24 vertex solved...\n25 vertex solved...\n26 vertex solved...\n27 vertex solved...\n28 vertex solved...\n29 vertex solved...\n30 vertex solved...\n31 vertex solved...\n32 vertex solved...\n33 vertex solved...\n34 vertex solved...\n35 vertex solved...\n36 vertex solved...\n37 vertex solved...\n38 vertex solved...\n39 vertex solved...\n40 vertex solved...\n41 vertex solved...\n42 vertex solved...\n43 vertex solved...\n"
     ]
    },
    {
     "name": "stdout",
     "output_type": "stream",
     "text": [
      "Warning: optimization doesn't converge for group 16, residuals 0.0009\nIteration time: -5.20 \nAverage Iteration Time: -0.03\n95.70\n"
     ]
    }
   ],
   "source": [
    "pt = time.time()\n",
    "w, c = model.train(group_idx=16)\n",
    "print(\"%.2f\" % (time.time() - pt))"
   ]
  },
  {
   "cell_type": "code",
   "execution_count": 15,
   "metadata": {
    "collapsed": true
   },
   "outputs": [
    {
     "name": "stdout",
     "output_type": "stream",
     "text": [
      "0 vertex solved...\n1 vertex solved...\n2 vertex solved...\n3 vertex solved...\n4 vertex solved...\n5 vertex solved...\n6 vertex solved...\n7 vertex solved...\n8 vertex solved...\n9 vertex solved...\n10 vertex solved...\n11 vertex solved...\n12 vertex solved...\n13 vertex solved...\n"
     ]
    },
    {
     "name": "stdout",
     "output_type": "stream",
     "text": [
      "14 vertex solved...\n15 vertex solved...\n16 vertex solved...\n17 vertex solved...\n18 vertex solved...\n19 vertex solved...\n20 vertex solved..."
     ]
    },
    {
     "name": "stdout",
     "output_type": "stream",
     "text": [
      "\n21 vertex solved...\n22 vertex solved...\n23 vertex solved...\n24 vertex solved...\n25 vertex solved...\n26 vertex solved...\n27 vertex solved...\n28 vertex solved...\n29 vertex solved...\n30 vertex solved...\n31 vertex solved...\n32 vertex solved...\n33 vertex solved...\n34 vertex solved...\n35 vertex solved...\n36 vertex solved...\n37 vertex solved...\n38 vertex solved...\n39 vertex solved...\n40 vertex solved...\n41 vertex solved...\n42 vertex solved...\n43 vertex solved...\n44 vertex solved...\n45 vertex solved...\n46 vertex solved...\n47 vertex solved...\n48 vertex solved...\n49 vertex solved...\n50 vertex solved...\n51 vertex solved...\n52 vertex solved...\n53 vertex solved...\n54 vertex solved...\n55 vertex solved...\n56 vertex solved...\n57 vertex solved...\n58 vertex solved...\n59 vertex solved...\n60 vertex solved...\n61 vertex solved...\n62 vertex solved...\n63 vertex solved...\n64 vertex solved...\n65 vertex solved...\n66 vertex solved...\n67 vertex solved...\n"
     ]
    },
    {
     "name": "stdout",
     "output_type": "stream",
     "text": [
      "68 vertex solved...\n69 vertex solved...\n70 vertex solved...\n71 vertex solved...\n72 vertex solved...\n73 vertex solved...\n74 vertex solved...\n75 vertex solved...\n76 vertex solved...\n77 vertex solved...\n78 vertex solved...\n79 vertex solved...\n80 vertex solved...\n81 vertex solved...\n82 vertex solved...\n83 vertex solved...\n84 vertex solved...\n85 vertex solved...\n86 vertex solved...\n87 vertex solved...\n88 vertex solved..."
     ]
    },
    {
     "name": "stdout",
     "output_type": "stream",
     "text": [
      "\n89 vertex solved...\n90 vertex solved...\n91 vertex solved...\n92 vertex solved...\n93 vertex solved...\n94 vertex solved...\n95 vertex solved...\n96 vertex solved...\n97 vertex solved...\n98 vertex solved...\n99 vertex solved...\n100 vertex solved...\n101 vertex solved...\n102 vertex solved...\n103 vertex solved...\n104 vertex solved...\n105 vertex solved...\n106 vertex solved...\n107 vertex solved...\n108 vertex solved...\n109 vertex solved...\n110 vertex solved...\n111 vertex solved...\n112 vertex solved...\n113 vertex solved...\n114 vertex solved...\n115 vertex solved...\n116 vertex solved...\n117 vertex solved...\n118 vertex solved...\n119 vertex solved...\n120 vertex solved...\n121 vertex solved...\n122 vertex solved...\n123 vertex solved...\n124 vertex solved...\n125 vertex solved...\n126 vertex solved...\n127 vertex solved...\n128 vertex solved...\n129 vertex solved...\n130 vertex solved..."
     ]
    },
    {
     "name": "stdout",
     "output_type": "stream",
     "text": [
      "\n131 vertex solved...\n132 vertex solved...\n133 vertex solved...\n134 vertex solved...\n135 vertex solved...\n136 vertex solved...\n137 vertex solved...\n138 vertex solved...\n139 vertex solved...\n140 vertex solved...\n141 vertex solved...\n142 vertex solved...\n143 vertex solved...\n144 vertex solved...\n145 vertex solved...\n146 vertex solved...\n147 vertex solved...\n148 vertex solved...\n149 vertex solved...\n150 vertex solved...\n151 vertex solved...\n152 vertex solved...\n153 vertex solved...\n154 vertex solved...\n155 vertex solved...\n156 vertex solved...\n157 vertex solved...\n158 vertex solved...\n159 vertex solved...\n160 vertex solved...\n161 vertex solved...\n162 vertex solved...\n163 vertex solved...\n164 vertex solved...\n165 vertex solved...\n166 vertex solved...\n167 vertex solved...\n168 vertex solved...\n169 vertex solved...\n170 vertex solved...\n171 vertex solved...\n172 vertex solved...\n173 vertex solved...\n174 vertex solved...\n175 vertex solved...\n176 vertex solved...\n177 vertex solved...\n178 vertex solved...\n179 vertex solved...\n180 vertex solved...\n181 vertex solved...\n182 vertex solved...\n183 vertex solved...\n184 vertex solved...\n185 vertex solved..."
     ]
    },
    {
     "name": "stdout",
     "output_type": "stream",
     "text": [
      "\n186 vertex solved...\n187 vertex solved...\n188 vertex solved...\n189 vertex solved...\n190 vertex solved...\n191 vertex solved...\n192 vertex solved...\n193 vertex solved...\n194 vertex solved...\n195 vertex solved...\n196 vertex solved...\n197 vertex solved...\n198 vertex solved...\n199 vertex solved...\n200 vertex solved...\n201 vertex solved...\n202 vertex solved...\n203 vertex solved...\n204 vertex solved...\n205 vertex solved...\n206 vertex solved...\n207 vertex solved...\n208 vertex solved...\n209 vertex solved...\n210 vertex solved...\n211 vertex solved...\n212 vertex solved...\n213 vertex solved...\n214 vertex solved...\n215 vertex solved...\n216 vertex solved...\n217 vertex solved...\n218 vertex solved...\n219 vertex solved...\n220 vertex solved...\n221 vertex solved...\n222 vertex solved...\n223 vertex solved...\n224 vertex solved...\n225 vertex solved...\n226 vertex solved...\n227 vertex solved...\n228 vertex solved...\n229 vertex solved...\n230 vertex solved...\n231 vertex solved...\n232 vertex solved...\n233 vertex solved...\n234 vertex solved...\n235 vertex solved...\n236 vertex solved...\n237 vertex solved...\n238 vertex solved...\n239 vertex solved...\n240 vertex solved...\n241 vertex solved...\n242 vertex solved...\n243 vertex solved...\n244 vertex solved...\n245 vertex solved...\n246 vertex solved...\n247 vertex solved...\n248 vertex solved...\n249 vertex solved...\n250 vertex solved...\n251 vertex solved...\n252 vertex solved...\n253 vertex solved...\n"
     ]
    },
    {
     "name": "stdout",
     "output_type": "stream",
     "text": [
      "254 vertex solved...\n255 vertex solved...\n256 vertex solved...\n257 vertex solved...\n258 vertex solved...\n259 vertex solved...\n260 vertex solved...\n261 vertex solved...\n262 vertex solved...\n263 vertex solved...\n264 vertex solved...\n265 vertex solved...\n266 vertex solved...\n267 vertex solved...\n268 vertex solved...\n269 vertex solved...\n270 vertex solved...\n271 vertex solved...\n272 vertex solved...\n273 vertex solved...\n274 vertex solved...\n275 vertex solved...\n276 vertex solved...\n277 vertex solved...\n278 vertex solved...\n279 vertex solved...\n280 vertex solved...\n281 vertex solved...\n282 vertex solved...\n283 vertex solved...\n284 vertex solved...\n285 vertex solved...\n"
     ]
    },
    {
     "name": "stdout",
     "output_type": "stream",
     "text": [
      "286 vertex solved...\n287 vertex solved...\n288 vertex solved...\n289 vertex solved...\n290 vertex solved...\n291 vertex solved...\n292 vertex solved...\n293 vertex solved...\n294 vertex solved...\n295 vertex solved...\n296 vertex solved...\n297 vertex solved...\n298 vertex solved...\n299 vertex solved...\n300 vertex solved...\n301 vertex solved...\n302 vertex solved...\n303 vertex solved...\n304 vertex solved...\n305 vertex solved...\n306 vertex solved...\n307 vertex solved...\n308 vertex solved...\n309 vertex solved...\n310 vertex solved...\n311 vertex solved...\n312 vertex solved...\n313 vertex solved...\n314 vertex solved...\n315 vertex solved...\n316 vertex solved...\n317 vertex solved...\n318 vertex solved...\n319 vertex solved...\n320 vertex solved...\n321 vertex solved...\n322 vertex solved...\n323 vertex solved...\n324 vertex solved...\n325 vertex solved...\n326 vertex solved...\n327 vertex solved...\n328 vertex solved...\n329 vertex solved...\n330 vertex solved...\n331 vertex solved...\n332 vertex solved...\n333 vertex solved...\n334 vertex solved...\n335 vertex solved...\n336 vertex solved...\n337 vertex solved...\n338 vertex solved...\n339 vertex solved...\n340 vertex solved...\n341 vertex solved...\n342 vertex solved...\n343 vertex solved...\n344 vertex solved...\n345 vertex solved...\n346 vertex solved...\n347 vertex solved...\n348 vertex solved...\n349 vertex solved...\n350 vertex solved...\n351 vertex solved...\n352 vertex solved...\n353 vertex solved...\n354 vertex solved...\n355 vertex solved...\n356 vertex solved...\n357 vertex solved...\n358 vertex solved...\n359 vertex solved...\n360 vertex solved...\n361 vertex solved...\n362 vertex solved...\n363 vertex solved...\n364 vertex solved...\n365 vertex solved...\n366 vertex solved...\n367 vertex solved...\n368 vertex solved...\n369 vertex solved...\n370 vertex solved...\n371 vertex solved...\n372 vertex solved...\n373 vertex solved...\n374 vertex solved...\n375 vertex solved...\n376 vertex solved...\n377 vertex solved...\n378 vertex solved...\n379 vertex solved...\n"
     ]
    },
    {
     "name": "stdout",
     "output_type": "stream",
     "text": [
      "380 vertex solved...\n381 vertex solved...\n382 vertex solved...\n383 vertex solved...\n384 vertex solved...\n385 vertex solved...\n386 vertex solved...\n387 vertex solved...\n388 vertex solved...\n389 vertex solved...\n390 vertex solved...\n391 vertex solved...\n392 vertex solved...\n393 vertex solved...\n394 vertex solved...\n395 vertex solved...\n396 vertex solved...\n397 vertex solved...\n398 vertex solved...\n399 vertex solved...\n0 vertex solved...\n1 vertex solved...\n2 vertex solved...\n3 vertex solved...\n4 vertex solved...\n5 vertex solved...\n6 vertex solved...\n7 vertex solved...\n8 vertex solved...\n9 vertex solved...\n10 vertex solved...\n11 vertex solved...\n12 vertex solved...\n13 vertex solved...\n"
     ]
    },
    {
     "name": "stdout",
     "output_type": "stream",
     "text": [
      "14 vertex solved...\n15 vertex solved...\n16 vertex solved...\n17 vertex solved...\n"
     ]
    },
    {
     "name": "stdout",
     "output_type": "stream",
     "text": [
      "18 vertex solved...\n19 vertex solved...\n20 vertex solved...\n21 vertex solved...\n22 vertex solved...\n23 vertex solved...\n24 vertex solved...\n25 vertex solved...\n26 vertex solved...\n27 vertex solved...\n28 vertex solved...\n29 vertex solved...\n30 vertex solved...\n31 vertex solved...\n32 vertex solved...\n33 vertex solved...\n34 vertex solved...\n35 vertex solved...\n36 vertex solved...\n37 vertex solved...\n"
     ]
    },
    {
     "name": "stdout",
     "output_type": "stream",
     "text": [
      "38 vertex solved...\n39 vertex solved...\n40 vertex solved...\n41 vertex solved...\n42 vertex solved...\n43 vertex solved...\n44 vertex solved...\n45 vertex solved...\n46 vertex solved...\n47 vertex solved...\n48 vertex solved...\n49 vertex solved...\n50 vertex solved...\n51 vertex solved...\n52 vertex solved...\n53 vertex solved...\n54 vertex solved...\n55 vertex solved...\n56 vertex solved...\n57 vertex solved...\n58 vertex solved...\n59 vertex solved...\n60 vertex solved...\n61 vertex solved...\n62 vertex solved...\n63 vertex solved...\n64 vertex solved...\n65 vertex solved...\n66 vertex solved...\n67 vertex solved...\n"
     ]
    },
    {
     "name": "stdout",
     "output_type": "stream",
     "text": [
      "68 vertex solved...\n69 vertex solved...\n70 vertex solved...\n71 vertex solved...\n72 vertex solved...\n73 vertex solved...\n74 vertex solved...\n75 vertex solved...\n76 vertex solved...\n77 vertex solved...\n78 vertex solved...\n79 vertex solved...\n80 vertex solved...\n81 vertex solved...\n82 vertex solved...\n83 vertex solved...\n84 vertex solved...\n85 vertex solved...\n"
     ]
    },
    {
     "name": "stdout",
     "output_type": "stream",
     "text": [
      "86 vertex solved...\n87 vertex solved...\n88 vertex solved...\n89 vertex solved...\n90 vertex solved...\n91 vertex solved...\n92 vertex solved...\n93 vertex solved...\n94 vertex solved...\n95 vertex solved...\n96 vertex solved...\n97 vertex solved...\n98 vertex solved...\n99 vertex solved...\n100 vertex solved...\n101 vertex solved...\n102 vertex solved...\n103 vertex solved...\n104 vertex solved...\n105 vertex solved...\n106 vertex solved...\n107 vertex solved...\n108 vertex solved...\n109 vertex solved...\n110 vertex solved...\n111 vertex solved...\n112 vertex solved...\n113 vertex solved...\n114 vertex solved...\n115 vertex solved...\n116 vertex solved...\n117 vertex solved...\n118 vertex solved...\n119 vertex solved...\n120 vertex solved...\n121 vertex solved...\n122 vertex solved...\n123 vertex solved...\n124 vertex solved...\n125 vertex solved...\n"
     ]
    },
    {
     "name": "stdout",
     "output_type": "stream",
     "text": [
      "126 vertex solved...\n127 vertex solved...\n128 vertex solved...\n129 vertex solved...\n130 vertex solved...\n131 vertex solved...\n132 vertex solved...\n133 vertex solved...\n134 vertex solved...\n135 vertex solved...\n136 vertex solved...\n137 vertex solved...\n138 vertex solved...\n139 vertex solved...\n140 vertex solved...\n141 vertex solved...\n142 vertex solved...\n143 vertex solved...\n144 vertex solved...\n145 vertex solved...\n146 vertex solved...\n147 vertex solved...\n148 vertex solved...\n149 vertex solved...\n150 vertex solved...\n151 vertex solved...\n152 vertex solved...\n153 vertex solved...\n154 vertex solved...\n155 vertex solved...\n156 vertex solved...\n157 vertex solved...\n158 vertex solved...\n159 vertex solved...\n160 vertex solved...\n161 vertex solved...\n162 vertex solved...\n163 vertex solved...\n164 vertex solved...\n165 vertex solved...\n166 vertex solved...\n167 vertex solved...\n168 vertex solved...\n169 vertex solved...\n170 vertex solved...\n171 vertex solved...\n172 vertex solved...\n173 vertex solved...\n174 vertex solved...\n175 vertex solved...\n176 vertex solved...\n177 vertex solved...\n178 vertex solved...\n179 vertex solved...\n180 vertex solved...\n181 vertex solved...\n182 vertex solved...\n183 vertex solved...\n184 vertex solved...\n"
     ]
    },
    {
     "name": "stdout",
     "output_type": "stream",
     "text": [
      "185 vertex solved...\n186 vertex solved...\n187 vertex solved...\n188 vertex solved...\n189 vertex solved...\n190 vertex solved...\n191 vertex solved...\n192 vertex solved...\n193 vertex solved...\n194 vertex solved...\n195 vertex solved...\n196 vertex solved...\n197 vertex solved...\n198 vertex solved...\n199 vertex solved...\n200 vertex solved...\n201 vertex solved...\n202 vertex solved...\n203 vertex solved...\n204 vertex solved...\n205 vertex solved...\n206 vertex solved...\n207 vertex solved...\n208 vertex solved...\n209 vertex solved...\n210 vertex solved...\n211 vertex solved...\n212 vertex solved...\n213 vertex solved...\n214 vertex solved...\n215 vertex solved...\n216 vertex solved...\n217 vertex solved...\n218 vertex solved...\n219 vertex solved...\n220 vertex solved...\n221 vertex solved...\n222 vertex solved...\n223 vertex solved...\n224 vertex solved...\n225 vertex solved...\n226 vertex solved...\n227 vertex solved...\n228 vertex solved...\n229 vertex solved...\n230 vertex solved...\n231 vertex solved...\n232 vertex solved...\n233 vertex solved...\n234 vertex solved...\n235 vertex solved...\n236 vertex solved...\n237 vertex solved...\n238 vertex solved...\n239 vertex solved...\n240 vertex solved...\n241 vertex solved...\n242 vertex solved...\n243 vertex solved...\n244 vertex solved...\n245 vertex solved...\n246 vertex solved...\n247 vertex solved...\n248 vertex solved...\n249 vertex solved...\n250 vertex solved...\n251 vertex solved...\n252 vertex solved..."
     ]
    },
    {
     "name": "stdout",
     "output_type": "stream",
     "text": [
      "\n253 vertex solved...\n254 vertex solved...\n255 vertex solved...\n256 vertex solved...\n257 vertex solved...\n258 vertex solved...\n259 vertex solved...\n260 vertex solved...\n261 vertex solved...\n262 vertex solved...\n263 vertex solved...\n264 vertex solved...\n265 vertex solved...\n266 vertex solved...\n267 vertex solved...\n268 vertex solved...\n269 vertex solved...\n270 vertex solved...\n271 vertex solved...\n272 vertex solved...\n273 vertex solved...\n274 vertex solved...\n275 vertex solved...\n276 vertex solved...\n277 vertex solved...\n278 vertex solved...\n279 vertex solved...\n280 vertex solved...\n281 vertex solved...\n282 vertex solved...\n283 vertex solved..."
     ]
    },
    {
     "name": "stdout",
     "output_type": "stream",
     "text": [
      "\n284 vertex solved...\n285 vertex solved...\n286 vertex solved...\n287 vertex solved...\n288 vertex solved...\n289 vertex solved...\n290 vertex solved...\n291 vertex solved...\n292 vertex solved...\n293 vertex solved...\n294 vertex solved...\n295 vertex solved...\n296 vertex solved...\n297 vertex solved...\n298 vertex solved...\n299 vertex solved...\n300 vertex solved...\n301 vertex solved...\n302 vertex solved...\n303 vertex solved...\n304 vertex solved...\n305 vertex solved...\n306 vertex solved...\n307 vertex solved...\n308 vertex solved...\n309 vertex solved...\n310 vertex solved...\n311 vertex solved...\n312 vertex solved...\n313 vertex solved...\n314 vertex solved...\n315 vertex solved...\n316 vertex solved...\n317 vertex solved...\n318 vertex solved...\n319 vertex solved...\n320 vertex solved...\n321 vertex solved...\n322 vertex solved...\n323 vertex solved...\n324 vertex solved...\n325 vertex solved...\n326 vertex solved...\n327 vertex solved...\n328 vertex solved...\n329 vertex solved...\n330 vertex solved...\n331 vertex solved...\n332 vertex solved...\n333 vertex solved...\n334 vertex solved...\n335 vertex solved...\n336 vertex solved...\n337 vertex solved...\n338 vertex solved...\n339 vertex solved...\n340 vertex solved...\n341 vertex solved...\n342 vertex solved...\n343 vertex solved...\n344 vertex solved...\n345 vertex solved...\n346 vertex solved...\n347 vertex solved...\n348 vertex solved...\n349 vertex solved...\n350 vertex solved...\n351 vertex solved...\n352 vertex solved...\n353 vertex solved...\n354 vertex solved...\n355 vertex solved...\n356 vertex solved...\n357 vertex solved...\n358 vertex solved...\n359 vertex solved...\n360 vertex solved...\n361 vertex solved...\n362 vertex solved...\n363 vertex solved...\n364 vertex solved...\n365 vertex solved...\n366 vertex solved...\n367 vertex solved...\n368 vertex solved...\n369 vertex solved...\n370 vertex solved...\n371 vertex solved...\n372 vertex solved...\n373 vertex solved...\n374 vertex solved...\n375 vertex solved...\n376 vertex solved...\n377 vertex solved...\n378 vertex solved...\n379 vertex solved...\n380 vertex solved...\n381 vertex solved...\n382 vertex solved...\n383 vertex solved...\n384 vertex solved...\n385 vertex solved...\n386 vertex solved...\n387 vertex solved...\n388 vertex solved...\n389 vertex solved...\n390 vertex solved...\n391 vertex solved...\n392 vertex solved...\n393 vertex solved...\n394 vertex solved...\n395 vertex solved...\n396 vertex solved...\n397 vertex solved...\n398 vertex solved...\n399 vertex solved...\n"
     ]
    },
    {
     "name": "stdout",
     "output_type": "stream",
     "text": [
      "22.09\n"
     ]
    }
   ],
   "source": [
    "pt = time.time()\n",
    "model = Optimizer(net, groups)\n",
    "print('%.2f' % (time.time() - pt))"
   ]
  },
  {
   "cell_type": "code",
   "execution_count": 20,
   "metadata": {},
   "outputs": [
    {
     "data": {
      "text/plain": [
       "832569"
      ]
     },
     "execution_count": 20,
     "metadata": {},
     "output_type": "execute_result"
    }
   ],
   "source": [
    "sum(sum(model.m_0_all != 0))"
   ]
  },
  {
   "cell_type": "code",
   "execution_count": 21,
   "metadata": {},
   "outputs": [
    {
     "data": {
      "text/plain": [
       "687761"
      ]
     },
     "execution_count": 21,
     "metadata": {},
     "output_type": "execute_result"
    }
   ],
   "source": [
    "sum(sum(model.m_all_0 != 0))"
   ]
  },
  {
   "cell_type": "code",
   "execution_count": 22,
   "metadata": {},
   "outputs": [],
   "source": [
    "m00 = model.m_0_all @ model.m_all_0"
   ]
  },
  {
   "cell_type": "code",
   "execution_count": 23,
   "metadata": {},
   "outputs": [],
   "source": [
    "m000 = model.m_0_all @ model.m_0_all.T"
   ]
  },
  {
   "cell_type": "code",
   "execution_count": 26,
   "metadata": {},
   "outputs": [
    {
     "data": {
      "text/plain": [
       "139784"
      ]
     },
     "execution_count": 26,
     "metadata": {},
     "output_type": "execute_result"
    }
   ],
   "source": [
    "sum(sum(m000 == 0))"
   ]
  },
  {
   "cell_type": "code",
   "execution_count": null,
   "metadata": {},
   "outputs": [],
   "source": [
    ""
   ]
  }
 ],
 "metadata": {
  "kernelspec": {
   "display_name": "Python 2",
   "language": "python",
   "name": "python2"
  },
  "language_info": {
   "codemirror_mode": {
    "name": "ipython",
    "version": 2.0
   },
   "file_extension": ".py",
   "mimetype": "text/x-python",
   "name": "python",
   "nbconvert_exporter": "python",
   "pygments_lexer": "ipython2",
   "version": "2.7.6"
  }
 },
 "nbformat": 4,
 "nbformat_minor": 0
}